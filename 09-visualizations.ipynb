{
 "cells": [
  {
   "cell_type": "code",
   "execution_count": 1,
   "id": "bc561194",
   "metadata": {},
   "outputs": [],
   "source": [
    "import sys\n",
    "from itertools import product\n",
    "# for calculating perfromance \n",
    "from sklearn.metrics import mean_absolute_error, median_absolute_error\n",
    "import pandas as pd\n",
    "import numpy as np\n",
    "import seaborn as sns\n",
    "import matplotlib.pyplot as plt"
   ]
  },
  {
   "cell_type": "code",
   "execution_count": 2,
   "id": "f201e9a6",
   "metadata": {},
   "outputs": [],
   "source": [
    "# variables\n",
    "project_name = \"RF+Clust\"\n",
    "project_folder = f\"C:/Users/anani/Downloads/{project_name}\"\n",
    "sys.path.append(project_folder)\n",
    "\n",
    "from variables import suite_name, features, target, transformation, budgets, algorithms\n",
    "from variables import n_folds, crossval_column\n",
    "from variables import model_name\n",
    "from variables import metric, calibration_method, similarity_thresholds, weights_method\n",
    "from utils import read_fold_data"
   ]
  },
  {
   "cell_type": "code",
   "execution_count": 3,
   "id": "2617ffa1",
   "metadata": {},
   "outputs": [],
   "source": [
    "suite_name = \"bbob\""
   ]
  },
  {
   "cell_type": "code",
   "execution_count": 4,
   "id": "a6e8af46",
   "metadata": {},
   "outputs": [],
   "source": [
    "def mae(df, col_name):\n",
    "    \"\"\"\n",
    "    Function to calculate MAE.\n",
    "    \"\"\"\n",
    "    mae = mean_absolute_error(df['true'].values, df['predicted'].values)\n",
    "\n",
    "    return pd.Series({col_name: mae})"
   ]
  },
  {
   "cell_type": "code",
   "execution_count": 5,
   "id": "5a732b80",
   "metadata": {},
   "outputs": [],
   "source": [
    "def mdae(df, col_name):\n",
    "    \"\"\"\n",
    "    Function to calculate MDAE.\n",
    "    \"\"\"\n",
    "    mdae = median_absolute_error(df['true'].values, df['predicted'].values)\n",
    "\n",
    "    return pd.Series({col_name: mdae})"
   ]
  },
  {
   "cell_type": "code",
   "execution_count": 6,
   "id": "0befce76",
   "metadata": {},
   "outputs": [],
   "source": [
    "def boxplot(df, figsize, font_scale, save, title, save_path, **kwargs):\n",
    "    \"\"\"\n",
    "    Function to plot and save a costumized boxplot.\n",
    "    \"\"\"\n",
    "    # set up figure\n",
    "    sns.set()\n",
    "    sns.set_theme(style='white', font_scale=font_scale)\n",
    "    f, ax = plt.subplots(1, 1, figsize=figsize)\n",
    "    \n",
    "    # plot\n",
    "    g = sns.boxplot(data=df, **kwargs)\n",
    "    \n",
    "    # enhance plot    \n",
    "    plt.legend(bbox_to_anchor=(1.01, 1), loc=2, borderaxespad=0.1, title=kwargs[\"hue\"])\n",
    "    plt.tight_layout()\n",
    "\n",
    "    # save\n",
    "    if save:\n",
    "        plt.savefig(f'{save_path}/{title}.png', bbox_inches='tight', dpi=300)\n",
    "    \n",
    "    plt.show()\n",
    "    plt.close"
   ]
  },
  {
   "cell_type": "code",
   "execution_count": 7,
   "id": "51f3b6ee",
   "metadata": {},
   "outputs": [],
   "source": [
    "# Data in 2D TODO: "
   ]
  },
  {
   "cell_type": "code",
   "execution_count": 8,
   "id": "d183d312",
   "metadata": {},
   "outputs": [
    {
     "data": {
      "image/png": "[encoded data removed]",
      "text/plain": [
       "<Figure size 700x300 with 1 Axes>"
      ]
     },
     "metadata": {},
     "output_type": "display_data"
    },
    {
     "name": "stdout",
     "output_type": "stream",
     "text": [
      "\\begin{tabular}{lrrr}\n",
      "\\toprule\n",
      "{} & \\multicolumn{3}{l}{value} \\\\\n",
      "algorithm\\_name &       DE1 &       DE2 &       DE3 \\\\\n",
      "variable &       mae &       mae &       mae \\\\\n",
      "features &           &           &           \\\\\n",
      "\\midrule\n",
      "10       &  0.716409 &  0.544865 &  0.790158 \\\\\n",
      "30       &  0.758639 &  0.573644 &  0.737953 \\\\\n",
      "all      &  0.845840 &  0.551419 &  0.784079 \\\\\n",
      "\\bottomrule\n",
      "\\end{tabular}\n",
      "\n"
     ]
    },
    {
     "name": "stderr",
     "output_type": "stream",
     "text": [
      "C:\\Users\\anani\\AppData\\Local\\Temp\\ipykernel_9600\\2911869702.py:31: FutureWarning: In future versions `DataFrame.to_latex` is expected to utilise the base implementation of `Styler.to_latex` for formatting and rendering. The arguments signature may therefore change. It is recommended instead to use `DataFrame.style.to_latex` which also contains additional functionality.\n",
      "  print(performance.pivot(columns=[\"algorithm_name\", \"variable\"], index=\"features\").to_latex())\n"
     ]
    }
   ],
   "source": [
    "# RF performance on the algorithms for different number of features\n",
    "rf_predictions = pd.DataFrame()\n",
    "performance = pd.DataFrame()\n",
    "\n",
    "for algorithm_name, budget in product(algorithms, budgets):\n",
    "    for features in [10, 30, \"all\"]:\n",
    "        \n",
    "        results_folder = f\"{project_folder}/Results/{suite_name}/transformation={transformation}_features={features}/{model_name}\"\n",
    "        results_folder_temp = f\"{results_folder}/algorithm_name={algorithm_name}_budget={budget}\"\n",
    "\n",
    "        predictions_temp = pd.read_csv(f\"{results_folder_temp}/predictions/predictions_set=test.csv\")\n",
    "        predictions_temp[\"algorithm_name\"] = algorithm_name\n",
    "        predictions_temp[\"features\"] = features\n",
    "        predictions_temp[\"model\"] = \"RF\"\n",
    "        \n",
    "        rf_predictions = pd.concat([rf_predictions, predictions_temp], axis=0)\n",
    "\n",
    "# plot\n",
    "predictions_plot = rf_predictions.copy()\n",
    "predictions_plot[\"AE\"] = abs(rf_predictions[\"true\"] - rf_predictions[\"predicted\"])\n",
    "                             \n",
    "boxplot(df=predictions_plot, figsize=(7, 3), font_scale=1, save=True, title=\"RF_performance_boxplot\"\n",
    "        , save_path=f\"{project_folder}/Results/{suite_name}\"\n",
    "        , x=\"algorithm_name\", y=\"AE\", hue=\"features\")\n",
    "       \n",
    "# calculate MAE and MDAE\n",
    "performance[\"mae\"] = rf_predictions.groupby([\"algorithm_name\", \"features\"]).apply(mae, (\"mae\"))\n",
    "# performance[\"mdae\"] = rf_predictions.groupby([\"algorithm_name\", \"features\"]).apply(mdae, (\"mdae\"))\n",
    "performance = performance.reset_index()\n",
    "performance = performance.melt(id_vars=[\"algorithm_name\", \"features\"])\n",
    "print(performance.pivot(columns=[\"algorithm_name\", \"variable\"], index=\"features\").to_latex())"
   ]
  },
  {
   "cell_type": "markdown",
   "id": "31850618",
   "metadata": {},
   "source": [
    "# Performance Summary"
   ]
  },
  {
   "cell_type": "markdown",
   "id": "c9bcfb7b",
   "metadata": {},
   "source": [
    "### mean/median"
   ]
  },
  {
   "cell_type": "code",
   "execution_count": 9,
   "id": "225f8231",
   "metadata": {},
   "outputs": [
    {
     "data": {
      "text/html": [
       "<div>\n",
       "<style scoped>\n",
       "    .dataframe tbody tr th:only-of-type {\n",
       "        vertical-align: middle;\n",
       "    }\n",
       "\n",
       "    .dataframe tbody tr th {\n",
       "        vertical-align: top;\n",
       "    }\n",
       "\n",
       "    .dataframe thead th {\n",
       "        text-align: right;\n",
       "    }\n",
       "</style>\n",
       "<table border=\"1\" class=\"dataframe\">\n",
       "  <thead>\n",
       "    <tr style=\"text-align: right;\">\n",
       "      <th></th>\n",
       "      <th>f_id</th>\n",
       "      <th>i_id</th>\n",
       "      <th>true</th>\n",
       "      <th>predicted</th>\n",
       "      <th>algorithm_name</th>\n",
       "      <th>features</th>\n",
       "      <th>model</th>\n",
       "    </tr>\n",
       "  </thead>\n",
       "  <tbody>\n",
       "    <tr>\n",
       "      <th>0</th>\n",
       "      <td>1</td>\n",
       "      <td>1</td>\n",
       "      <td>0.004468</td>\n",
       "      <td>0.563044</td>\n",
       "      <td>DE1</td>\n",
       "      <td>10</td>\n",
       "      <td>RF</td>\n",
       "    </tr>\n",
       "    <tr>\n",
       "      <th>1</th>\n",
       "      <td>1</td>\n",
       "      <td>2</td>\n",
       "      <td>0.001517</td>\n",
       "      <td>0.563044</td>\n",
       "      <td>DE1</td>\n",
       "      <td>10</td>\n",
       "      <td>RF</td>\n",
       "    </tr>\n",
       "    <tr>\n",
       "      <th>2</th>\n",
       "      <td>1</td>\n",
       "      <td>3</td>\n",
       "      <td>0.002879</td>\n",
       "      <td>0.563044</td>\n",
       "      <td>DE1</td>\n",
       "      <td>10</td>\n",
       "      <td>RF</td>\n",
       "    </tr>\n",
       "    <tr>\n",
       "      <th>3</th>\n",
       "      <td>1</td>\n",
       "      <td>4</td>\n",
       "      <td>0.002733</td>\n",
       "      <td>0.597717</td>\n",
       "      <td>DE1</td>\n",
       "      <td>10</td>\n",
       "      <td>RF</td>\n",
       "    </tr>\n",
       "    <tr>\n",
       "      <th>4</th>\n",
       "      <td>1</td>\n",
       "      <td>5</td>\n",
       "      <td>0.003954</td>\n",
       "      <td>0.563044</td>\n",
       "      <td>DE1</td>\n",
       "      <td>10</td>\n",
       "      <td>RF</td>\n",
       "    </tr>\n",
       "    <tr>\n",
       "      <th>...</th>\n",
       "      <td>...</td>\n",
       "      <td>...</td>\n",
       "      <td>...</td>\n",
       "      <td>...</td>\n",
       "      <td>...</td>\n",
       "      <td>...</td>\n",
       "      <td>...</td>\n",
       "    </tr>\n",
       "    <tr>\n",
       "      <th>115</th>\n",
       "      <td>24</td>\n",
       "      <td>1</td>\n",
       "      <td>1.717523</td>\n",
       "      <td>0.678497</td>\n",
       "      <td>DE3</td>\n",
       "      <td>all</td>\n",
       "      <td>RF</td>\n",
       "    </tr>\n",
       "    <tr>\n",
       "      <th>116</th>\n",
       "      <td>24</td>\n",
       "      <td>2</td>\n",
       "      <td>1.692746</td>\n",
       "      <td>0.688733</td>\n",
       "      <td>DE3</td>\n",
       "      <td>all</td>\n",
       "      <td>RF</td>\n",
       "    </tr>\n",
       "    <tr>\n",
       "      <th>117</th>\n",
       "      <td>24</td>\n",
       "      <td>3</td>\n",
       "      <td>1.721075</td>\n",
       "      <td>0.678497</td>\n",
       "      <td>DE3</td>\n",
       "      <td>all</td>\n",
       "      <td>RF</td>\n",
       "    </tr>\n",
       "    <tr>\n",
       "      <th>118</th>\n",
       "      <td>24</td>\n",
       "      <td>4</td>\n",
       "      <td>1.722035</td>\n",
       "      <td>0.711934</td>\n",
       "      <td>DE3</td>\n",
       "      <td>all</td>\n",
       "      <td>RF</td>\n",
       "    </tr>\n",
       "    <tr>\n",
       "      <th>119</th>\n",
       "      <td>24</td>\n",
       "      <td>5</td>\n",
       "      <td>1.713971</td>\n",
       "      <td>0.694822</td>\n",
       "      <td>DE3</td>\n",
       "      <td>all</td>\n",
       "      <td>RF</td>\n",
       "    </tr>\n",
       "  </tbody>\n",
       "</table>\n",
       "<p>1080 rows × 7 columns</p>\n",
       "</div>"
      ],
      "text/plain": [
       "     f_id  i_id      true  predicted algorithm_name features model\n",
       "0       1     1  0.004468   0.563044            DE1       10    RF\n",
       "1       1     2  0.001517   0.563044            DE1       10    RF\n",
       "2       1     3  0.002879   0.563044            DE1       10    RF\n",
       "3       1     4  0.002733   0.597717            DE1       10    RF\n",
       "4       1     5  0.003954   0.563044            DE1       10    RF\n",
       "..    ...   ...       ...        ...            ...      ...   ...\n",
       "115    24     1  1.717523   0.678497            DE3      all    RF\n",
       "116    24     2  1.692746   0.688733            DE3      all    RF\n",
       "117    24     3  1.721075   0.678497            DE3      all    RF\n",
       "118    24     4  1.722035   0.711934            DE3      all    RF\n",
       "119    24     5  1.713971   0.694822            DE3      all    RF\n",
       "\n",
       "[1080 rows x 7 columns]"
      ]
     },
     "execution_count": 9,
     "metadata": {},
     "output_type": "execute_result"
    }
   ],
   "source": [
    "rf_predictions.copy()"
   ]
  },
  {
   "cell_type": "code",
   "execution_count": 10,
   "id": "ef830d5e",
   "metadata": {},
   "outputs": [
    {
     "name": "stdout",
     "output_type": "stream",
     "text": [
      "\\begin{tabular}{lrrr}\n",
      "\\toprule\n",
      "{} & \\multicolumn{3}{l}{mae} \\\\\n",
      "algorithm\\_name &       DE1 &       DE2 &       DE3 \\\\\n",
      "model &           &           &           \\\\\n",
      "\\midrule\n",
      "RF    &  0.716409 &  0.544865 &  0.790158 \\\\\n",
      "0.9   &  0.771134 &  0.581848 &  0.824243 \\\\\n",
      "0.7   &  0.735131 &  0.582422 &  0.771385 \\\\\n",
      "0.5   &  0.713628 &  0.578257 &  0.748825 \\\\\n",
      "\\bottomrule\n",
      "\\end{tabular}\n",
      "\n"
     ]
    },
    {
     "name": "stderr",
     "output_type": "stream",
     "text": [
      "C:\\Users\\anani\\AppData\\Local\\Temp\\ipykernel_9600\\3902566795.py:34: FutureWarning: In future versions `DataFrame.to_latex` is expected to utilise the base implementation of `Styler.to_latex` for formatting and rendering. The arguments signature may therefore change. It is recommended instead to use `DataFrame.style.to_latex` which also contains additional functionality.\n",
      "  print(performance.pivot(columns=\"algorithm_name\", index=[\"model\"]).reindex([\"RF\", 0.9, 0.7, 0.5]).to_latex())\n"
     ]
    }
   ],
   "source": [
    "# create results placeholder\n",
    "rfclust_predictions = rf_predictions.copy()\n",
    "\n",
    "for algorithm_name, budget in product(algorithms, budgets):\n",
    "#     print(f\"algorithm_name: {algorithm_name}\")\n",
    "\n",
    "    for features in [10, 30, \"all\"]:\n",
    "#         print(f\"features: {features}\")\n",
    "        \n",
    "        # define directories\n",
    "        results_folder = f\"{project_folder}/Results/{suite_name}/transformation={transformation}_features={features}/{model_name}\"\n",
    "        results_folder_temp = f\"{results_folder}/algorithm_name={algorithm_name}_budget={budget}\"\n",
    "\n",
    "        for similarity_threshold in similarity_thresholds: \n",
    "#             print(f\"similarity_threshold: {similarity_threshold}\")\n",
    "            \n",
    "            title = f\"predictions_metric={metric}_threshold={similarity_threshold}_method={calibration_method}_weights={weights_method}\"\n",
    "            predictions = pd.read_csv(f\"{results_folder_temp}/rfclust/{title}.csv\")\n",
    "            \n",
    "            predictions[\"features\"] = features\n",
    "            predictions[\"model\"] = similarity_threshold\n",
    "            predictions[\"algorithm_name\"] = algorithm_name\n",
    "            \n",
    "            rfclust_predictions = pd.concat([rfclust_predictions, predictions], axis=0)\n",
    "\n",
    "# calculate mae\n",
    "performance = pd.DataFrame() \n",
    "performance = rfclust_predictions.groupby([\"algorithm_name\", \"model\", \"features\"]).apply(mae, (\"mae\")).reset_index()\n",
    "\n",
    "# select for features = 10\n",
    "# print(\"Peformance features=10: \")\n",
    "performance = performance[performance[\"features\"] == 10]\n",
    "performance = performance.drop(\"features\", axis=1)\n",
    "print(performance.pivot(columns=\"algorithm_name\", index=[\"model\"]).reindex([\"RF\", 0.9, 0.7, 0.5]).to_latex())"
   ]
  },
  {
   "cell_type": "markdown",
   "id": "9d5606bf",
   "metadata": {},
   "source": [
    "### counts"
   ]
  },
  {
   "cell_type": "code",
   "execution_count": 11,
   "id": "9ff3d7fd",
   "metadata": {},
   "outputs": [
    {
     "name": "stdout",
     "output_type": "stream",
     "text": [
      "\\begin{tabular}{lrrrl}\n",
      "\\toprule\n",
      "{} &  times\\_better &  times\\_equal &  times\\_worse & algorithm\\_name \\\\\n",
      "\\midrule\n",
      "0.9 &          37.0 &         29.0 &         54.0 &            DE1 \\\\\n",
      "0.7 &          52.0 &          4.0 &         64.0 &            DE1 \\\\\n",
      "0.5 &          59.0 &          0.0 &         61.0 &            DE1 \\\\\n",
      "0.9 &          31.0 &         31.0 &         58.0 &            DE2 \\\\\n",
      "0.7 &          56.0 &          2.0 &         62.0 &            DE2 \\\\\n",
      "0.5 &          55.0 &          0.0 &         65.0 &            DE2 \\\\\n",
      "0.9 &          45.0 &         31.0 &         44.0 &            DE3 \\\\\n",
      "0.7 &          71.0 &          0.0 &         49.0 &            DE3 \\\\\n",
      "0.5 &          77.0 &          0.0 &         43.0 &            DE3 \\\\\n",
      "\\bottomrule\n",
      "\\end{tabular}\n",
      "\n"
     ]
    },
    {
     "name": "stderr",
     "output_type": "stream",
     "text": [
      "C:\\Users\\anani\\AppData\\Local\\Temp\\ipykernel_9600\\3119448697.py:37: FutureWarning: In future versions `DataFrame.to_latex` is expected to utilise the base implementation of `Styler.to_latex` for formatting and rendering. The arguments signature may therefore change. It is recommended instead to use `DataFrame.style.to_latex` which also contains additional functionality.\n",
      "  print(compare_models.to_latex())\n"
     ]
    }
   ],
   "source": [
    "# create results placeholder\n",
    "compare_models = pd.DataFrame()\n",
    "\n",
    "for algorithm_name, budget in product(algorithms, budgets):\n",
    "#     print(f\"algorithm_name: {algorithm_name}\")\n",
    "\n",
    "    for features in [10, 30, \"all\"]:\n",
    "#         print(f\"features: {features}\")\n",
    "\n",
    "        # define directories\n",
    "        results_folder = f\"{project_folder}/Results/{suite_name}/transformation={transformation}_features={features}/{model_name}\"\n",
    "        results_folder_temp = f\"{results_folder}/algorithm_name={algorithm_name}_budget={budget}\"\n",
    "\n",
    "        # read AE\n",
    "        ae = pd.read_csv(f\"{results_folder_temp}/rfclust/ae_compare_models_features={features}.csv\", index_col=\"model\")\n",
    "    \n",
    "        # count how many times RF+Clust was beter, worse or equal to RF\n",
    "        compare_models_temp = pd.DataFrame()\n",
    "\n",
    "        for idx in [idx for idx in ae.index if idx != 'RF']:\n",
    "            compare_models_temp.loc[idx, 'times_better'] = int(sum(np.where(ae.loc['RF', :]\n",
    "                                                                     > ae.loc[idx, :], 1, 0)))    \n",
    "            compare_models_temp.loc[idx, 'times_equal'] = int(sum(np.where(ae.loc['RF', :]\n",
    "                                                                     == ae.loc[idx, :], 1, 0)))\n",
    "            compare_models_temp.loc[idx, 'times_worse'] = int(sum(np.where(ae.loc['RF', :]\n",
    "                                                                     < ae.loc[idx, :], 1, 0)))\n",
    "        \n",
    "        compare_models_temp[\"features\"] = features       \n",
    "        compare_models_temp[\"algorithm_name\"] = algorithm_name        \n",
    "        compare_models = pd.concat([compare_models, compare_models_temp], axis=0)\n",
    "\n",
    "# select for features = 10\n",
    "# print(\"Peformance features=10: \")\n",
    "compare_models = compare_models[compare_models[\"features\"] == 10]\n",
    "compare_models = compare_models.drop(\"features\", axis=1)\n",
    "\n",
    "print(compare_models.to_latex())"
   ]
  }
 ],
 "metadata": {
  "kernelspec": {
   "display_name": "Python 3 (ipykernel)",
   "language": "python",
   "name": "python3"
  },
  "language_info": {
   "codemirror_mode": {
    "name": "ipython",
    "version": 3
   },
   "file_extension": ".py",
   "mimetype": "text/x-python",
   "name": "python",
   "nbconvert_exporter": "python",
   "pygments_lexer": "ipython3",
   "version": "3.9.15"
  }
 },
 "nbformat": 4,
 "nbformat_minor": 5
}
